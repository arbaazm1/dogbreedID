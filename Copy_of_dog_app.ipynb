{
  "nbformat": 4,
  "nbformat_minor": 0,
  "metadata": {
    "colab": {
      "name": "Copy of dog_app.ipynb",
      "version": "0.3.2",
      "provenance": [],
      "collapsed_sections": [],
      "include_colab_link": true
    },
    "kernelspec": {
      "display_name": "dog-project",
      "language": "python",
      "name": "dog-project"
    }
  },
  "cells": [
    {
      "cell_type": "markdown",
      "metadata": {
        "id": "view-in-github",
        "colab_type": "text"
      },
      "source": [
        "<a href=\"https://colab.research.google.com/github/arbaazm1/dogbreedID/blob/master/Copy_of_dog_app.ipynb\" target=\"_parent\"><img src=\"https://colab.research.google.com/assets/colab-badge.svg\" alt=\"Open In Colab\"/></a>"
      ]
    },
    {
      "metadata": {
        "id": "OCgupGX8_hoe",
        "colab_type": "text"
      },
      "cell_type": "markdown",
      "source": [
        "# Dog Identification App \n",
        "---\n",
        "\n",
        "This app accepts any user-supplied image as input.  If a dog is detected in the image, it will provide an estimate of the dog's breed.  If a human is detected, it will provide an estimate of the dog breed that is most resembling.\n",
        "\n",
        "## Importing Datasets\n",
        "\n",
        "### Import Dog Dataset\n",
        "\n",
        "- `train_files`, `valid_files`, `test_files` - numpy arrays containing file paths to images\n",
        "- `train_targets`, `valid_targets`, `test_targets` - numpy arrays containing one hot encoded classification labels \n",
        "- `dog_names` - list of string-valued dog breed names for translating labels"
      ]
    },
    {
      "metadata": {
        "id": "PPwXx91H_hoh",
        "colab_type": "code",
        "outputId": "2d0a6a57-f76b-4268-c56c-308a3f2fe246",
        "colab": {}
      },
      "cell_type": "code",
      "source": [
        "from sklearn.datasets import load_files       \n",
        "from keras.utils import np_utils\n",
        "import numpy as np\n",
        "from glob import glob\n",
        "\n",
        "# define function to load train, test, and validation datasets\n",
        "def load_dataset(path):\n",
        "    data = load_files(path)\n",
        "    dog_files = np.array(data['filenames'])\n",
        "    dog_targets = np_utils.to_categorical(np.array(data['target']), 133)\n",
        "    return dog_files, dog_targets\n",
        "\n",
        "# load train, test, and validation datasets\n",
        "train_files, train_targets = load_dataset('dogImages/train')\n",
        "valid_files, valid_targets = load_dataset('dogImages/valid')\n",
        "test_files, test_targets = load_dataset('dogImages/test')\n",
        "\n",
        "# load list of dog names\n",
        "dog_names = [item[20:-1] for item in sorted(glob(\"dogImages/train/*/\"))]\n",
        "\n",
        "# print statistics about the dataset\n",
        "print('There are %d total dog categories.' % len(dog_names))\n",
        "print('There are %s total dog images.\\n' % len(np.hstack([train_files, valid_files, test_files])))\n",
        "print('There are %d training dog images.' % len(train_files))\n",
        "print('There are %d validation dog images.' % len(valid_files))\n",
        "print('There are %d test dog images.'% len(test_files))"
      ],
      "execution_count": 0,
      "outputs": [
        {
          "output_type": "stream",
          "text": [
            "There are 133 total dog categories.\n",
            "There are 8351 total dog images.\n",
            "\n",
            "There are 6680 training dog images.\n",
            "There are 835 validation dog images.\n",
            "There are 836 test dog images.\n"
          ],
          "name": "stdout"
        }
      ]
    },
    {
      "metadata": {
        "id": "5pLUKvVt_hoo",
        "colab_type": "text"
      },
      "cell_type": "markdown",
      "source": [
        "### Import Human Dataset\n",
        "\n",
        "`human_files` - a numpy array containing file paths."
      ]
    },
    {
      "metadata": {
        "id": "SgOQEQlb_hop",
        "colab_type": "code",
        "outputId": "49536e73-a0ac-4821-b63b-33ee955a8a46",
        "colab": {}
      },
      "cell_type": "code",
      "source": [
        "import random\n",
        "random.seed(8675309)\n",
        "\n",
        "# load filenames in shuffled human dataset\n",
        "human_files = np.array(glob(\"lfw/*/*\"))\n",
        "random.shuffle(human_files)\n",
        "\n",
        "# print statistics about the dataset\n",
        "print('There are %d total human images.' % len(human_files))"
      ],
      "execution_count": 0,
      "outputs": [
        {
          "output_type": "stream",
          "text": [
            "There are 13233 total human images.\n"
          ],
          "name": "stdout"
        }
      ]
    },
    {
      "metadata": {
        "id": "7T9ZM_i8_hou",
        "colab_type": "text"
      },
      "cell_type": "markdown",
      "source": [
        "---\n",
        "<a id='step1'></a>\n",
        "## Human Detection\n",
        "\n",
        "OpenCV's implementation of [Haar feature-based cascade classifiers](http://docs.opencv.org/trunk/d7/d8b/tutorial_py_face_detection.html) is used to detect human faces in images. "
      ]
    },
    {
      "metadata": {
        "id": "OHm1hRih_how",
        "colab_type": "code",
        "outputId": "460c4077-4b41-4331-e13e-08118e0579fb",
        "colab": {}
      },
      "cell_type": "code",
      "source": [
        "import cv2                \n",
        "import matplotlib.pyplot as plt                        \n",
        "%matplotlib inline                               \n",
        "\n",
        "# extract pre-trained face detector\n",
        "face_cascade = cv2.CascadeClassifier('haarcascades/haarcascade_frontalface_alt.xml')\n",
        "\n",
        "# load color (BGR) image\n",
        "img = cv2.imread(human_files[3])\n",
        "# convert BGR image to grayscale\n",
        "gray = cv2.cvtColor(img, cv2.COLOR_BGR2GRAY)\n",
        "\n",
        "# find faces in image\n",
        "faces = face_cascade.detectMultiScale(gray)\n",
        "\n",
        "# print number of faces detected in the image\n",
        "print('Number of faces detected:', len(faces))\n",
        "\n",
        "# get bounding box for each detected face\n",
        "for (x,y,w,h) in faces:\n",
        "    # add bounding box to color image\n",
        "    cv2.rectangle(img,(x,y),(x+w,y+h),(255,0,0),2)\n",
        "    \n",
        "# convert BGR image to RGB for plotting\n",
        "cv_rgb = cv2.cvtColor(img, cv2.COLOR_BGR2RGB)\n",
        "\n",
        "# display the image, along with bounding box\n",
        "plt.imshow(cv_rgb)\n",
        "plt.show()"
      ],
      "execution_count": 0,
      "outputs": [
        {
          "output_type": "stream",
          "text": [
            "Number of faces detected: 1\n"
          ],
          "name": "stdout"
        },
        {
          "output_type": "display_data",
          "data": {
            "image/png": "[encoded data removed]",
            "text/plain": [
              "<matplotlib.figure.Figure at 0x7f5691417588>"
            ]
          },
          "metadata": {
            "tags": []
          }
        }
      ]
    },
    {
      "metadata": {
        "id": "mnvFklT-_ho0",
        "colab_type": "text"
      },
      "cell_type": "markdown",
      "source": [
        "### Human Face Detector\n",
        "\n",
        "The following function takes a string-valued file path to an image as input and returns `True` if a human face is detected in an image and `False` otherwise.  "
      ]
    },
    {
      "metadata": {
        "id": "3Nzfmdf2_ho2",
        "colab_type": "code",
        "colab": {}
      },
      "cell_type": "code",
      "source": [
        "# returns \"True\" if face is detected in image stored at img_path\n",
        "def face_detector(img_path):\n",
        "    img = cv2.imread(img_path)\n",
        "    gray = cv2.cvtColor(img, cv2.COLOR_BGR2GRAY)\n",
        "    faces = face_cascade.detectMultiScale(gray)\n",
        "    return len(faces) > 0"
      ],
      "execution_count": 0,
      "outputs": []
    },
    {
      "metadata": {
        "id": "Qqihmq83_ho5",
        "colab_type": "text"
      },
      "cell_type": "markdown",
      "source": [
        "### Human Face Detector Assessment\n",
        "The following code tests the previously defined face detector function. It calculates the percentage of the first 100 images in `human_files` that have a detected human face and then the percentage of the first 100 images in `dog_files` that have a detected human face."
      ]
    },
    {
      "metadata": {
        "id": "llWn0FTS_ho6",
        "colab_type": "code",
        "outputId": "656b0bfb-46f3-41a2-e4de-a9d3691a2a15",
        "colab": {}
      },
      "cell_type": "code",
      "source": [
        "human_files_short = human_files[:100]\n",
        "dog_files_short = train_files[:100]\n",
        "\n",
        "human_total = 0\n",
        "dog_total = 0\n",
        "\n",
        "for humanfile in human_files_short:\n",
        "    if face_detector(humanfile):\n",
        "        human_total +=1\n",
        "\n",
        "for dogfile in dog_files_short:\n",
        "    if face_detector(dogfile):\n",
        "        dog_total += 1\n",
        "\n",
        "print(human_total)\n",
        "print(dog_total)"
      ],
      "execution_count": 0,
      "outputs": [
        {
          "output_type": "stream",
          "text": [
            "99\n",
            "11\n"
          ],
          "name": "stdout"
        }
      ]
    },
    {
      "metadata": {
        "id": "aJQ8HCKW_hpC",
        "colab_type": "text"
      },
      "cell_type": "markdown",
      "source": [
        "---\n",
        "## Dog Detection\n",
        "\n",
        "A pre-trained ResNet-50 model is used to detect dogs in images."
      ]
    },
    {
      "metadata": {
        "id": "3HXOTL-w_hpE",
        "colab_type": "code",
        "colab": {}
      },
      "cell_type": "code",
      "source": [
        "from keras.applications.resnet50 import ResNet50\n",
        "\n",
        "# define ResNet50 model\n",
        "ResNet50_model = ResNet50(weights='imagenet')"
      ],
      "execution_count": 0,
      "outputs": []
    },
    {
      "metadata": {
        "id": "STpA6m5W_hpH",
        "colab_type": "text"
      },
      "cell_type": "markdown",
      "source": [
        "### Data Preprocessing"
      ]
    },
    {
      "metadata": {
        "id": "alLNoJTF_hpI",
        "colab_type": "code",
        "colab": {}
      },
      "cell_type": "code",
      "source": [
        "from keras.preprocessing import image                  \n",
        "from tqdm import tqdm\n",
        "\n",
        "def path_to_tensor(img_path):\n",
        "    # loads RGB image as PIL.Image.Image type\n",
        "    img = image.load_img(img_path, target_size=(224, 224))\n",
        "    # convert PIL.Image.Image type to 3D tensor with shape (224, 224, 3)\n",
        "    x = image.img_to_array(img)\n",
        "    # convert 3D tensor to 4D tensor with shape (1, 224, 224, 3) and return 4D tensor\n",
        "    return np.expand_dims(x, axis=0)\n",
        "\n",
        "def paths_to_tensor(img_paths):\n",
        "    list_of_tensors = [path_to_tensor(img_path) for img_path in tqdm(img_paths)]\n",
        "    return np.vstack(list_of_tensors)"
      ],
      "execution_count": 0,
      "outputs": []
    },
    {
      "metadata": {
        "id": "7mOfu2My_hpK",
        "colab_type": "text"
      },
      "cell_type": "markdown",
      "source": [
        "### Predictions with ResNet-50"
      ]
    },
    {
      "metadata": {
        "id": "PRqNoSh9_hpM",
        "colab_type": "code",
        "colab": {}
      },
      "cell_type": "code",
      "source": [
        "from keras.applications.resnet50 import preprocess_input, decode_predictions\n",
        "\n",
        "def ResNet50_predict_labels(img_path):\n",
        "    # returns prediction vector for image located at img_path\n",
        "    img = preprocess_input(path_to_tensor(img_path))\n",
        "    return np.argmax(ResNet50_model.predict(img))"
      ],
      "execution_count": 0,
      "outputs": []
    },
    {
      "metadata": {
        "id": "48wau1po_hpP",
        "colab_type": "text"
      },
      "cell_type": "markdown",
      "source": [
        "### Dog Detector\n",
        "\n",
        "Categories corresponding to dogs appear in an uninterrupted sequence and correspond to dictionary keys 151-268, inclusive. In order to check to see if an image is predicted to contain a dog by the pre-trained ResNet-50 model, we need only check if the `ResNet50_predict_labels` function above returns a value between 151 and 268 (inclusive).\n",
        "\n",
        "This is the reasoning behind the `dog_detector` function below, which returns `True` if a dog is detected in an image (and `False` otherwise)."
      ]
    },
    {
      "metadata": {
        "id": "fduhB3Mc_hpP",
        "colab_type": "code",
        "colab": {}
      },
      "cell_type": "code",
      "source": [
        "### returns \"True\" if a dog is detected in the image stored at img_path\n",
        "def dog_detector(img_path):\n",
        "    prediction = ResNet50_predict_labels(img_path)\n",
        "    return ((prediction <= 268) & (prediction >= 151)) "
      ],
      "execution_count": 0,
      "outputs": []
    },
    {
      "metadata": {
        "id": "Gsq5ovXt_hpS",
        "colab_type": "text"
      },
      "cell_type": "markdown",
      "source": [
        "### Dog Detector Assessment\n",
        "\n",
        "The following code tests the previously defined dog detector function. It calculates the percentage of the first 100 images in `human_files_short` that have a detected dog and then the percentage of the first 100 images in `dog_files_short` that have a detected dog. "
      ]
    },
    {
      "metadata": {
        "id": "X-XJuBaY_hpT",
        "colab_type": "code",
        "outputId": "3d82e669-46c6-4823-81bf-58e8580d5215",
        "colab": {}
      },
      "cell_type": "code",
      "source": [
        "human_total = 0\n",
        "dog_total = 0\n",
        "\n",
        "for humanfile in human_files_short:\n",
        "    if dog_detector(humanfile):\n",
        "        human_total +=1\n",
        "\n",
        "for dogfile in dog_files_short:\n",
        "    if dog_detector(dogfile):\n",
        "        dog_total += 1\n",
        "\n",
        "print(human_total)\n",
        "print(dog_total)"
      ],
      "execution_count": 0,
      "outputs": [
        {
          "output_type": "stream",
          "text": [
            "1\n",
            "100\n"
          ],
          "name": "stdout"
        }
      ]
    },
    {
      "metadata": {
        "id": "EmYTze5u_hpY",
        "colab_type": "text"
      },
      "cell_type": "markdown",
      "source": [
        "---\n",
        "## CNN Creation from Scratch to Classify Dog Breeds\n",
        "\n",
        "The following cells create a CNN from scratch that classifies dog breeds.\n",
        "\n",
        "### Data Preprocessing"
      ]
    },
    {
      "metadata": {
        "id": "RyJqYCoY_hpZ",
        "colab_type": "code",
        "outputId": "1fac1bf0-6366-4734-d5df-acc90d869755",
        "colab": {}
      },
      "cell_type": "code",
      "source": [
        "from PIL import ImageFile                            \n",
        "ImageFile.LOAD_TRUNCATED_IMAGES = True                 \n",
        "\n",
        "# pre-process the data for Keras\n",
        "train_tensors = paths_to_tensor(train_files).astype('float32')/255\n",
        "valid_tensors = paths_to_tensor(valid_files).astype('float32')/255\n",
        "test_tensors = paths_to_tensor(test_files).astype('float32')/255"
      ],
      "execution_count": 0,
      "outputs": [
        {
          "output_type": "stream",
          "text": [
            "100%|██████████| 6680/6680 [01:31<00:00, 73.03it/s] \n",
            "100%|██████████| 835/835 [00:10<00:00, 96.98it/s] \n",
            "100%|██████████| 836/836 [00:10<00:00, 82.71it/s] \n"
          ],
          "name": "stderr"
        }
      ]
    },
    {
      "metadata": {
        "id": "pH3IkyG1_hpe",
        "colab_type": "text"
      },
      "cell_type": "markdown",
      "source": [
        "### Model Architecture"
      ]
    },
    {
      "metadata": {
        "id": "w0Qq6I4g_hpg",
        "colab_type": "code",
        "outputId": "9a0cb027-ffce-4924-8c37-4fa862d7e68f",
        "colab": {}
      },
      "cell_type": "code",
      "source": [
        "from keras.layers import Conv2D, MaxPooling2D, GlobalAveragePooling2D\n",
        "from keras.layers import Dropout, Flatten, Dense\n",
        "from keras.models import Sequential\n",
        "\n",
        "model = Sequential()\n",
        "model.add(Conv2D(filters=16, kernel_size=2, padding=\"same\", activation=\"relu\", input_shape=(224,224,3)))\n",
        "model.add(MaxPooling2D(pool_size=2))\n",
        "model.add(Conv2D(filters=32, kernel_size=2, padding=\"same\", activation=\"relu\"))\n",
        "model.add(MaxPooling2D(pool_size=2))\n",
        "model.add(Conv2D(filters=64, kernel_size=2, padding=\"same\", activation=\"relu\"))\n",
        "model.add(MaxPooling2D(pool_size=2))\n",
        "model.add(GlobalAveragePooling2D())\n",
        "model.add(Dense(133, activation=\"softmax\"))\n",
        "\n",
        "model.summary()"
      ],
      "execution_count": 0,
      "outputs": [
        {
          "output_type": "stream",
          "text": [
            "_________________________________________________________________\n",
            "Layer (type)                 Output Shape              Param #   \n",
            "=================================================================\n",
            "conv2d_1 (Conv2D)            (None, 224, 224, 16)      208       \n",
            "_________________________________________________________________\n",
            "max_pooling2d_3 (MaxPooling2 (None, 112, 112, 16)      0         \n",
            "_________________________________________________________________\n",
            "conv2d_2 (Conv2D)            (None, 112, 112, 32)      2080      \n",
            "_________________________________________________________________\n",
            "max_pooling2d_4 (MaxPooling2 (None, 56, 56, 32)        0         \n",
            "_________________________________________________________________\n",
            "conv2d_3 (Conv2D)            (None, 56, 56, 64)        8256      \n",
            "_________________________________________________________________\n",
            "max_pooling2d_5 (MaxPooling2 (None, 28, 28, 64)        0         \n",
            "_________________________________________________________________\n",
            "global_average_pooling2d_1 ( (None, 64)                0         \n",
            "_________________________________________________________________\n",
            "dense_1 (Dense)              (None, 133)               8645      \n",
            "=================================================================\n",
            "Total params: 19,189.0\n",
            "Trainable params: 19,189.0\n",
            "Non-trainable params: 0.0\n",
            "_________________________________________________________________\n"
          ],
          "name": "stdout"
        }
      ]
    },
    {
      "metadata": {
        "id": "zc95MKNj_hpm",
        "colab_type": "text"
      },
      "cell_type": "markdown",
      "source": [
        "### Model Compilation"
      ]
    },
    {
      "metadata": {
        "id": "Wo448e6L_hpn",
        "colab_type": "code",
        "colab": {}
      },
      "cell_type": "code",
      "source": [
        "model.compile(optimizer='rmsprop', loss='categorical_crossentropy', metrics=['accuracy'])"
      ],
      "execution_count": 0,
      "outputs": []
    },
    {
      "metadata": {
        "id": "nh4OAwcH_hpq",
        "colab_type": "text"
      },
      "cell_type": "markdown",
      "source": [
        "### Model Training"
      ]
    },
    {
      "metadata": {
        "scrolled": false,
        "id": "RZbIGWLH_hpr",
        "colab_type": "code",
        "outputId": "4dd93deb-13d9-429c-e985-a9ae9539e14a",
        "colab": {}
      },
      "cell_type": "code",
      "source": [
        "from keras.callbacks import ModelCheckpoint  \n",
        "\n",
        "epochs = 50\n",
        "\n",
        "checkpointer = ModelCheckpoint(filepath='saved_models/weights.best.from_scratch.hdf5', \n",
        "                               verbose=1, save_best_only=True)\n",
        "\n",
        "model.fit(train_tensors, train_targets, \n",
        "          validation_data=(valid_tensors, valid_targets),\n",
        "          epochs=epochs, batch_size=20, callbacks=[checkpointer], verbose=1)"
      ],
      "execution_count": 0,
      "outputs": [
        {
          "output_type": "stream",
          "text": [
            "Train on 6680 samples, validate on 835 samples\n",
            "Epoch 1/50\n",
            "6660/6680 [============================>.] - ETA: 1s - loss: 4.0950 - acc: 0.0940Epoch 00000: val_loss improved from inf to 4.25130, saving model to saved_models/weights.best.from_scratch.hdf5\n",
            "6680/6680 [==============================] - 393s - loss: 4.0954 - acc: 0.0940 - val_loss: 4.2513 - val_acc: 0.0647\n",
            "Epoch 2/50\n",
            "6660/6680 [============================>.] - ETA: 1s - loss: 4.0795 - acc: 0.0941Epoch 00001: val_loss did not improve\n",
            "6680/6680 [==============================] - 394s - loss: 4.0797 - acc: 0.0942 - val_loss: 4.2526 - val_acc: 0.0659\n",
            "Epoch 3/50\n",
            "6660/6680 [============================>.] - ETA: 1s - loss: 4.0696 - acc: 0.0979Epoch 00002: val_loss did not improve\n",
            "6680/6680 [==============================] - 394s - loss: 4.0700 - acc: 0.0981 - val_loss: 4.3467 - val_acc: 0.0659\n",
            "Epoch 4/50\n",
            "6660/6680 [============================>.] - ETA: 1s - loss: 4.0649 - acc: 0.0931Epoch 00003: val_loss improved from 4.25130 to 4.24514, saving model to saved_models/weights.best.from_scratch.hdf5\n",
            "6680/6680 [==============================] - 394s - loss: 4.0649 - acc: 0.0930 - val_loss: 4.2451 - val_acc: 0.0754\n",
            "Epoch 5/50\n",
            "6660/6680 [============================>.] - ETA: 1s - loss: 4.0526 - acc: 0.0979Epoch 00004: val_loss did not improve\n",
            "6680/6680 [==============================] - 393s - loss: 4.0528 - acc: 0.0976 - val_loss: 4.2581 - val_acc: 0.0814\n",
            "Epoch 6/50\n",
            "6660/6680 [============================>.] - ETA: 1s - loss: 4.0416 - acc: 0.1011Epoch 00005: val_loss improved from 4.24514 to 4.24126, saving model to saved_models/weights.best.from_scratch.hdf5\n",
            "6680/6680 [==============================] - 395s - loss: 4.0417 - acc: 0.1009 - val_loss: 4.2413 - val_acc: 0.0838\n",
            "Epoch 7/50\n",
            "6660/6680 [============================>.] - ETA: 1s - loss: 4.0279 - acc: 0.1008Epoch 00006: val_loss improved from 4.24126 to 4.22768, saving model to saved_models/weights.best.from_scratch.hdf5\n",
            "6680/6680 [==============================] - 394s - loss: 4.0286 - acc: 0.1006 - val_loss: 4.2277 - val_acc: 0.0838\n",
            "Epoch 8/50\n",
            "6660/6680 [============================>.] - ETA: 1s - loss: 4.0204 - acc: 0.0958Epoch 00007: val_loss improved from 4.22768 to 4.21200, saving model to saved_models/weights.best.from_scratch.hdf5\n",
            "6680/6680 [==============================] - 393s - loss: 4.0201 - acc: 0.0958 - val_loss: 4.2120 - val_acc: 0.0790\n",
            "Epoch 9/50\n",
            "6660/6680 [============================>.] - ETA: 1s - loss: 4.0102 - acc: 0.1020Epoch 00008: val_loss did not improve\n",
            "6680/6680 [==============================] - 395s - loss: 4.0093 - acc: 0.1022 - val_loss: 4.2283 - val_acc: 0.0731\n",
            "Epoch 10/50\n",
            "6660/6680 [============================>.] - ETA: 1s - loss: 4.0027 - acc: 0.1054Epoch 00009: val_loss did not improve\n",
            "6680/6680 [==============================] - 394s - loss: 4.0028 - acc: 0.1052 - val_loss: 4.2867 - val_acc: 0.0766\n",
            "Epoch 11/50\n",
            "6660/6680 [============================>.] - ETA: 1s - loss: 3.9895 - acc: 0.1063Epoch 00010: val_loss did not improve\n",
            "6680/6680 [==============================] - 394s - loss: 3.9885 - acc: 0.1063 - val_loss: 4.2488 - val_acc: 0.0802\n",
            "Epoch 12/50\n",
            "6660/6680 [============================>.] - ETA: 1s - loss: 3.9802 - acc: 0.1047Epoch 00011: val_loss improved from 4.21200 to 4.18401, saving model to saved_models/weights.best.from_scratch.hdf5\n",
            "6680/6680 [==============================] - 393s - loss: 3.9803 - acc: 0.1048 - val_loss: 4.1840 - val_acc: 0.0826\n",
            "Epoch 13/50\n",
            "6660/6680 [============================>.] - ETA: 1s - loss: 3.9720 - acc: 0.1075Epoch 00012: val_loss did not improve\n",
            "6680/6680 [==============================] - 394s - loss: 3.9731 - acc: 0.1073 - val_loss: 4.1886 - val_acc: 0.0743\n",
            "Epoch 14/50\n",
            "6660/6680 [============================>.] - ETA: 1s - loss: 3.9607 - acc: 0.1095Epoch 00013: val_loss did not improve\n",
            "6680/6680 [==============================] - 394s - loss: 3.9598 - acc: 0.1093 - val_loss: 4.2660 - val_acc: 0.0790\n",
            "Epoch 15/50\n",
            "6660/6680 [============================>.] - ETA: 1s - loss: 3.9543 - acc: 0.1114Epoch 00014: val_loss did not improve\n",
            "6680/6680 [==============================] - 393s - loss: 3.9527 - acc: 0.1117 - val_loss: 4.2243 - val_acc: 0.0754\n",
            "Epoch 16/50\n",
            "6660/6680 [============================>.] - ETA: 1s - loss: 3.9454 - acc: 0.1108Epoch 00015: val_loss did not improve\n",
            "6680/6680 [==============================] - 392s - loss: 3.9463 - acc: 0.1106 - val_loss: 4.2294 - val_acc: 0.0886\n",
            "Epoch 17/50\n",
            "6660/6680 [============================>.] - ETA: 1s - loss: 3.9365 - acc: 0.1128Epoch 00016: val_loss did not improve\n",
            "6680/6680 [==============================] - 395s - loss: 3.9363 - acc: 0.1127 - val_loss: 4.2407 - val_acc: 0.0850\n",
            "Epoch 18/50\n",
            "6660/6680 [============================>.] - ETA: 1s - loss: 3.9270 - acc: 0.1105Epoch 00017: val_loss improved from 4.18401 to 4.17351, saving model to saved_models/weights.best.from_scratch.hdf5\n",
            "6680/6680 [==============================] - 393s - loss: 3.9266 - acc: 0.1105 - val_loss: 4.1735 - val_acc: 0.0838\n",
            "Epoch 19/50\n",
            "6660/6680 [============================>.] - ETA: 1s - loss: 3.9156 - acc: 0.1162Epoch 00018: val_loss improved from 4.17351 to 4.15588, saving model to saved_models/weights.best.from_scratch.hdf5\n",
            "6680/6680 [==============================] - 395s - loss: 3.9160 - acc: 0.1162 - val_loss: 4.1559 - val_acc: 0.0898\n",
            "Epoch 20/50\n",
            "6660/6680 [============================>.] - ETA: 1s - loss: 3.9040 - acc: 0.1108Epoch 00019: val_loss did not improve\n",
            "6680/6680 [==============================] - 393s - loss: 3.9046 - acc: 0.1111 - val_loss: 4.1777 - val_acc: 0.0874\n",
            "Epoch 21/50\n",
            "6660/6680 [============================>.] - ETA: 1s - loss: 3.9004 - acc: 0.1174Epoch 00020: val_loss did not improve\n",
            "6680/6680 [==============================] - 394s - loss: 3.9002 - acc: 0.1174 - val_loss: 4.1885 - val_acc: 0.0958\n",
            "Epoch 22/50\n",
            "6660/6680 [============================>.] - ETA: 1s - loss: 3.8847 - acc: 0.1204Epoch 00021: val_loss did not improve\n",
            "6680/6680 [==============================] - 394s - loss: 3.8862 - acc: 0.1201 - val_loss: 4.1679 - val_acc: 0.0862\n",
            "Epoch 23/50\n",
            "6660/6680 [============================>.] - ETA: 1s - loss: 3.8840 - acc: 0.1168Epoch 00022: val_loss did not improve\n",
            "6680/6680 [==============================] - 395s - loss: 3.8836 - acc: 0.1166 - val_loss: 4.1913 - val_acc: 0.0766\n",
            "Epoch 24/50\n",
            "6660/6680 [============================>.] - ETA: 1s - loss: 3.8792 - acc: 0.1230Epoch 00023: val_loss improved from 4.15588 to 4.15284, saving model to saved_models/weights.best.from_scratch.hdf5\n",
            "6680/6680 [==============================] - 393s - loss: 3.8769 - acc: 0.1235 - val_loss: 4.1528 - val_acc: 0.0934\n",
            "Epoch 25/50\n",
            "6660/6680 [============================>.] - ETA: 1s - loss: 3.8668 - acc: 0.1195Epoch 00024: val_loss did not improve\n",
            "6680/6680 [==============================] - 394s - loss: 3.8676 - acc: 0.1192 - val_loss: 4.1568 - val_acc: 0.0946\n",
            "Epoch 26/50\n",
            "6660/6680 [============================>.] - ETA: 1s - loss: 3.8522 - acc: 0.1239Epoch 00025: val_loss improved from 4.15284 to 4.13950, saving model to saved_models/weights.best.from_scratch.hdf5\n",
            "6680/6680 [==============================] - 393s - loss: 3.8511 - acc: 0.1241 - val_loss: 4.1395 - val_acc: 0.1006\n",
            "Epoch 27/50\n",
            "6660/6680 [============================>.] - ETA: 1s - loss: 3.8476 - acc: 0.1246Epoch 00026: val_loss did not improve\n",
            "6680/6680 [==============================] - 388s - loss: 3.8467 - acc: 0.1247 - val_loss: 4.1610 - val_acc: 0.0958\n",
            "Epoch 28/50\n",
            "6660/6680 [============================>.] - ETA: 1s - loss: 3.8330 - acc: 0.1267Epoch 00027: val_loss did not improve\n",
            "6680/6680 [==============================] - 377s - loss: 3.8338 - acc: 0.1266 - val_loss: 4.2583 - val_acc: 0.0838\n",
            "Epoch 29/50\n",
            "6660/6680 [============================>.] - ETA: 1s - loss: 3.8262 - acc: 0.1258Epoch 00028: val_loss did not improve\n",
            "6680/6680 [==============================] - 371s - loss: 3.8249 - acc: 0.1263 - val_loss: 4.1906 - val_acc: 0.0970\n",
            "Epoch 30/50\n",
            "6660/6680 [============================>.] - ETA: 1s - loss: 3.8216 - acc: 0.1282Epoch 00029: val_loss improved from 4.13950 to 4.13433, saving model to saved_models/weights.best.from_scratch.hdf5\n"
          ],
          "name": "stdout"
        },
        {
          "output_type": "stream",
          "text": [
            "6680/6680 [==============================] - 360s - loss: 3.8211 - acc: 0.1281 - val_loss: 4.1343 - val_acc: 0.1030\n",
            "Epoch 31/50\n",
            "6660/6680 [============================>.] - ETA: 1s - loss: 3.8115 - acc: 0.1294Epoch 00030: val_loss improved from 4.13433 to 4.09407, saving model to saved_models/weights.best.from_scratch.hdf5\n",
            "6680/6680 [==============================] - 358s - loss: 3.8109 - acc: 0.1298 - val_loss: 4.0941 - val_acc: 0.1018\n",
            "Epoch 32/50\n",
            "6660/6680 [============================>.] - ETA: 1s - loss: 3.8022 - acc: 0.1311Epoch 00031: val_loss did not improve\n",
            "6680/6680 [==============================] - 358s - loss: 3.8043 - acc: 0.1308 - val_loss: 4.1089 - val_acc: 0.1054\n",
            "Epoch 33/50\n",
            "6660/6680 [============================>.] - ETA: 1s - loss: 3.7953 - acc: 0.1306Epoch 00032: val_loss did not improve\n",
            "6680/6680 [==============================] - 359s - loss: 3.7965 - acc: 0.1307 - val_loss: 4.0952 - val_acc: 0.1138\n",
            "Epoch 34/50\n",
            "6660/6680 [============================>.] - ETA: 1s - loss: 3.7925 - acc: 0.1392Epoch 00033: val_loss did not improve\n",
            "6680/6680 [==============================] - 359s - loss: 3.7906 - acc: 0.1394 - val_loss: 4.1416 - val_acc: 0.0958\n",
            "Epoch 35/50\n",
            "6660/6680 [============================>.] - ETA: 1s - loss: 3.7780 - acc: 0.1330Epoch 00034: val_loss did not improve\n",
            "6680/6680 [==============================] - 357s - loss: 3.7776 - acc: 0.1331 - val_loss: 4.1471 - val_acc: 0.1006\n",
            "Epoch 36/50\n",
            "6660/6680 [============================>.] - ETA: 1s - loss: 3.7688 - acc: 0.1422Epoch 00035: val_loss did not improve\n",
            "6680/6680 [==============================] - 358s - loss: 3.7683 - acc: 0.1421 - val_loss: 4.1034 - val_acc: 0.1138\n",
            "Epoch 37/50\n",
            "6660/6680 [============================>.] - ETA: 1s - loss: 3.7637 - acc: 0.1368Epoch 00036: val_loss did not improve\n",
            "6680/6680 [==============================] - 363s - loss: 3.7628 - acc: 0.1368 - val_loss: 4.1454 - val_acc: 0.1030\n",
            "Epoch 38/50\n",
            "6660/6680 [============================>.] - ETA: 1s - loss: 3.7444 - acc: 0.1393Epoch 00037: val_loss did not improve\n",
            "6680/6680 [==============================] - 381s - loss: 3.7443 - acc: 0.1391 - val_loss: 4.1214 - val_acc: 0.0982\n",
            "Epoch 39/50\n",
            "6660/6680 [============================>.] - ETA: 1s - loss: 3.7417 - acc: 0.1389Epoch 00038: val_loss improved from 4.09407 to 4.09118, saving model to saved_models/weights.best.from_scratch.hdf5\n",
            "6680/6680 [==============================] - 392s - loss: 3.7423 - acc: 0.1388 - val_loss: 4.0912 - val_acc: 0.1030\n",
            "Epoch 40/50\n",
            "6660/6680 [============================>.] - ETA: 1s - loss: 3.7389 - acc: 0.1417Epoch 00039: val_loss improved from 4.09118 to 4.06833, saving model to saved_models/weights.best.from_scratch.hdf5\n",
            "6680/6680 [==============================] - 393s - loss: 3.7390 - acc: 0.1419 - val_loss: 4.0683 - val_acc: 0.1198\n",
            "Epoch 41/50\n",
            "6660/6680 [============================>.] - ETA: 1s - loss: 3.7335 - acc: 0.1440Epoch 00040: val_loss did not improve\n",
            "6680/6680 [==============================] - 392s - loss: 3.7325 - acc: 0.1440 - val_loss: 4.1027 - val_acc: 0.1114\n",
            "Epoch 42/50\n",
            "6660/6680 [============================>.] - ETA: 1s - loss: 3.7259 - acc: 0.1489Epoch 00041: val_loss did not improve\n",
            "6680/6680 [==============================] - 385s - loss: 3.7246 - acc: 0.1490 - val_loss: 4.0705 - val_acc: 0.1174\n",
            "Epoch 43/50\n",
            "6660/6680 [============================>.] - ETA: 1s - loss: 3.7243 - acc: 0.1529Epoch 00042: val_loss did not improve\n",
            "6680/6680 [==============================] - 384s - loss: 3.7232 - acc: 0.1530 - val_loss: 4.1049 - val_acc: 0.1126\n",
            "Epoch 44/50\n",
            "6660/6680 [============================>.] - ETA: 1s - loss: 3.7067 - acc: 0.1503Epoch 00043: val_loss did not improve\n",
            "6680/6680 [==============================] - 383s - loss: 3.7051 - acc: 0.1503 - val_loss: 4.0757 - val_acc: 0.1126\n",
            "Epoch 45/50\n",
            "6660/6680 [============================>.] - ETA: 1s - loss: 3.6992 - acc: 0.1505Epoch 00044: val_loss improved from 4.06833 to 4.06484, saving model to saved_models/weights.best.from_scratch.hdf5\n",
            "6680/6680 [==============================] - 383s - loss: 3.6991 - acc: 0.1504 - val_loss: 4.0648 - val_acc: 0.1030\n",
            "Epoch 46/50\n",
            "6660/6680 [============================>.] - ETA: 1s - loss: 3.6899 - acc: 0.1542Epoch 00045: val_loss improved from 4.06484 to 4.04751, saving model to saved_models/weights.best.from_scratch.hdf5\n",
            "6680/6680 [==============================] - 383s - loss: 3.6906 - acc: 0.1542 - val_loss: 4.0475 - val_acc: 0.1150\n",
            "Epoch 47/50\n",
            "6660/6680 [============================>.] - ETA: 1s - loss: 3.6788 - acc: 0.1596Epoch 00046: val_loss did not improve\n",
            "6680/6680 [==============================] - 383s - loss: 3.6792 - acc: 0.1599 - val_loss: 4.1937 - val_acc: 0.0946\n",
            "Epoch 48/50\n",
            "6660/6680 [============================>.] - ETA: 1s - loss: 3.6753 - acc: 0.1556Epoch 00047: val_loss did not improve\n",
            "6680/6680 [==============================] - 383s - loss: 3.6749 - acc: 0.1557 - val_loss: 4.0626 - val_acc: 0.1174\n",
            "Epoch 49/50\n",
            "6660/6680 [============================>.] - ETA: 1s - loss: 3.6711 - acc: 0.1590Epoch 00048: val_loss did not improve\n",
            "6680/6680 [==============================] - 381s - loss: 3.6712 - acc: 0.1591 - val_loss: 4.0934 - val_acc: 0.1126\n",
            "Epoch 50/50\n",
            "6660/6680 [============================>.] - ETA: 1s - loss: 3.6641 - acc: 0.1553Epoch 00049: val_loss improved from 4.04751 to 4.04155, saving model to saved_models/weights.best.from_scratch.hdf5\n",
            "6680/6680 [==============================] - 387s - loss: 3.6651 - acc: 0.1551 - val_loss: 4.0416 - val_acc: 0.1138\n"
          ],
          "name": "stdout"
        },
        {
          "output_type": "execute_result",
          "data": {
            "text/plain": [
              "<keras.callbacks.History at 0x7f55c2c74da0>"
            ]
          },
          "metadata": {
            "tags": []
          },
          "execution_count": 34
        }
      ]
    },
    {
      "metadata": {
        "id": "TO3Vqf0P_hpt",
        "colab_type": "text"
      },
      "cell_type": "markdown",
      "source": [
        "### Load the Model with the Best Validation Loss"
      ]
    },
    {
      "metadata": {
        "id": "DPmUABzp_hpv",
        "colab_type": "code",
        "colab": {}
      },
      "cell_type": "code",
      "source": [
        "model.load_weights('saved_models/weights.best.from_scratch.hdf5')"
      ],
      "execution_count": 0,
      "outputs": []
    },
    {
      "metadata": {
        "id": "LEG-vN0o_hpx",
        "colab_type": "text"
      },
      "cell_type": "markdown",
      "source": [
        "### Model Testing"
      ]
    },
    {
      "metadata": {
        "id": "2-9C68gA_hpz",
        "colab_type": "code",
        "outputId": "23e54b02-18e1-430e-bda6-a1387d5cc307",
        "colab": {}
      },
      "cell_type": "code",
      "source": [
        "# get index of predicted dog breed for each image in test set\n",
        "dog_breed_predictions = [np.argmax(model.predict(np.expand_dims(tensor, axis=0))) for tensor in test_tensors]\n",
        "\n",
        "# report test accuracy\n",
        "test_accuracy = 100*np.sum(np.array(dog_breed_predictions)==np.argmax(test_targets, axis=1))/len(dog_breed_predictions)\n",
        "print('Test accuracy: %.4f%%' % test_accuracy)"
      ],
      "execution_count": 0,
      "outputs": [
        {
          "output_type": "stream",
          "text": [
            "Test accuracy: 10.4067%\n"
          ],
          "name": "stdout"
        }
      ]
    },
    {
      "metadata": {
        "id": "g3BJ5AY2_hp3",
        "colab_type": "text"
      },
      "cell_type": "markdown",
      "source": [
        "---\n",
        "## Transfer Learning to Classify Dog Breeds\n",
        "\n",
        "### Obtain Bottleneck Features"
      ]
    },
    {
      "metadata": {
        "id": "ADhmMvcw_hp4",
        "colab_type": "code",
        "colab": {}
      },
      "cell_type": "code",
      "source": [
        "bottleneck_features = np.load('bottleneck_features/DogVGG16Data.npz')\n",
        "train_VGG16 = bottleneck_features['train']\n",
        "valid_VGG16 = bottleneck_features['valid']\n",
        "test_VGG16 = bottleneck_features['test']"
      ],
      "execution_count": 0,
      "outputs": []
    },
    {
      "metadata": {
        "id": "1nSA-hf2_hp6",
        "colab_type": "text"
      },
      "cell_type": "markdown",
      "source": [
        "### Model Architecture\n",
        "\n",
        "The model uses the the pre-trained VGG-16 model as a fixed feature extractor, where the last convolutional output of VGG-16 is used as input to the final model."
      ]
    },
    {
      "metadata": {
        "id": "fX1NuJLo_hp8",
        "colab_type": "code",
        "outputId": "1b14456d-9f86-4dce-ea29-626f565e559a",
        "colab": {}
      },
      "cell_type": "code",
      "source": [
        "VGG16_model = Sequential()\n",
        "VGG16_model.add(GlobalAveragePooling2D(input_shape=train_VGG16.shape[1:]))\n",
        "VGG16_model.add(Dense(133, activation='softmax'))\n",
        "\n",
        "VGG16_model.summary()"
      ],
      "execution_count": 0,
      "outputs": [
        {
          "output_type": "stream",
          "text": [
            "_________________________________________________________________\n",
            "Layer (type)                 Output Shape              Param #   \n",
            "=================================================================\n",
            "global_average_pooling2d_2 ( (None, 512)               0         \n",
            "_________________________________________________________________\n",
            "dense_2 (Dense)              (None, 133)               68229     \n",
            "=================================================================\n",
            "Total params: 68,229.0\n",
            "Trainable params: 68,229.0\n",
            "Non-trainable params: 0.0\n",
            "_________________________________________________________________\n"
          ],
          "name": "stdout"
        }
      ]
    },
    {
      "metadata": {
        "id": "uvUn_x8q_hqC",
        "colab_type": "text"
      },
      "cell_type": "markdown",
      "source": [
        "### Model Compilation"
      ]
    },
    {
      "metadata": {
        "id": "Ze4hjPVE_hqE",
        "colab_type": "code",
        "colab": {}
      },
      "cell_type": "code",
      "source": [
        "VGG16_model.compile(loss='categorical_crossentropy', optimizer='rmsprop', metrics=['accuracy'])"
      ],
      "execution_count": 0,
      "outputs": []
    },
    {
      "metadata": {
        "id": "yRxERkcK_hqG",
        "colab_type": "text"
      },
      "cell_type": "markdown",
      "source": [
        "### Model Training"
      ]
    },
    {
      "metadata": {
        "id": "E7Z8o9dd_hqH",
        "colab_type": "code",
        "outputId": "b19ed526-0721-48e8-e244-c9c1e0aae108",
        "colab": {}
      },
      "cell_type": "code",
      "source": [
        "checkpointer = ModelCheckpoint(filepath='saved_models/weights.best.VGG16.hdf5', \n",
        "                               verbose=1, save_best_only=True)\n",
        "\n",
        "VGG16_model.fit(train_VGG16, train_targets, \n",
        "          validation_data=(valid_VGG16, valid_targets),\n",
        "          epochs=20, batch_size=20, callbacks=[checkpointer], verbose=1)"
      ],
      "execution_count": 0,
      "outputs": [
        {
          "output_type": "stream",
          "text": [
            "Train on 6680 samples, validate on 835 samples\n",
            "Epoch 1/20\n",
            "6620/6680 [============================>.] - ETA: 0s - loss: 11.5893 - acc: 0.1441Epoch 00000: val_loss improved from inf to 9.72567, saving model to saved_models/weights.best.VGG16.hdf5\n",
            "6680/6680 [==============================] - 4s - loss: 11.5678 - acc: 0.1455 - val_loss: 9.7257 - val_acc: 0.2575\n",
            "Epoch 2/20\n",
            "6640/6680 [============================>.] - ETA: 0s - loss: 9.0886 - acc: 0.3346Epoch 00001: val_loss improved from 9.72567 to 9.09624, saving model to saved_models/weights.best.VGG16.hdf5\n",
            "6680/6680 [==============================] - 3s - loss: 9.1006 - acc: 0.3344 - val_loss: 9.0962 - val_acc: 0.3497\n",
            "Epoch 3/20\n",
            "6580/6680 [============================>.] - ETA: 0s - loss: 8.6618 - acc: 0.3998Epoch 00002: val_loss improved from 9.09624 to 8.93143, saving model to saved_models/weights.best.VGG16.hdf5\n",
            "6680/6680 [==============================] - 3s - loss: 8.6583 - acc: 0.3996 - val_loss: 8.9314 - val_acc: 0.3521\n",
            "Epoch 4/20\n",
            "6600/6680 [============================>.] - ETA: 0s - loss: 8.3934 - acc: 0.4368Epoch 00003: val_loss improved from 8.93143 to 8.83470, saving model to saved_models/weights.best.VGG16.hdf5\n",
            "6680/6680 [==============================] - 3s - loss: 8.4186 - acc: 0.4350 - val_loss: 8.8347 - val_acc: 0.3617\n",
            "Epoch 5/20\n",
            "6580/6680 [============================>.] - ETA: 0s - loss: 8.1526 - acc: 0.4543Epoch 00004: val_loss improved from 8.83470 to 8.67178, saving model to saved_models/weights.best.VGG16.hdf5\n",
            "6680/6680 [==============================] - 3s - loss: 8.1334 - acc: 0.4555 - val_loss: 8.6718 - val_acc: 0.3832\n",
            "Epoch 6/20\n",
            "6660/6680 [============================>.] - ETA: 0s - loss: 7.9280 - acc: 0.4706Epoch 00005: val_loss improved from 8.67178 to 8.38684, saving model to saved_models/weights.best.VGG16.hdf5\n",
            "6680/6680 [==============================] - 3s - loss: 7.9333 - acc: 0.4704 - val_loss: 8.3868 - val_acc: 0.3988\n",
            "Epoch 7/20\n",
            "6620/6680 [============================>.] - ETA: 0s - loss: 7.7052 - acc: 0.4921Epoch 00006: val_loss improved from 8.38684 to 8.26240, saving model to saved_models/weights.best.VGG16.hdf5\n",
            "6680/6680 [==============================] - 3s - loss: 7.6986 - acc: 0.4924 - val_loss: 8.2624 - val_acc: 0.4108\n",
            "Epoch 8/20\n",
            "6660/6680 [============================>.] - ETA: 0s - loss: 7.5852 - acc: 0.5111Epoch 00007: val_loss improved from 8.26240 to 8.17715, saving model to saved_models/weights.best.VGG16.hdf5\n",
            "6680/6680 [==============================] - 3s - loss: 7.5891 - acc: 0.5109 - val_loss: 8.1771 - val_acc: 0.4299\n",
            "Epoch 9/20\n",
            "6640/6680 [============================>.] - ETA: 0s - loss: 7.4770 - acc: 0.5179Epoch 00008: val_loss improved from 8.17715 to 8.16279, saving model to saved_models/weights.best.VGG16.hdf5\n",
            "6680/6680 [==============================] - 3s - loss: 7.4790 - acc: 0.5175 - val_loss: 8.1628 - val_acc: 0.4156\n",
            "Epoch 10/20\n",
            "6580/6680 [============================>.] - ETA: 0s - loss: 7.4392 - acc: 0.5280Epoch 00009: val_loss improved from 8.16279 to 8.12837, saving model to saved_models/weights.best.VGG16.hdf5\n",
            "6680/6680 [==============================] - 3s - loss: 7.4410 - acc: 0.5277 - val_loss: 8.1284 - val_acc: 0.4371\n",
            "Epoch 11/20\n",
            "6640/6680 [============================>.] - ETA: 0s - loss: 7.4043 - acc: 0.5330Epoch 00010: val_loss improved from 8.12837 to 8.06268, saving model to saved_models/weights.best.VGG16.hdf5\n",
            "6680/6680 [==============================] - 3s - loss: 7.4132 - acc: 0.5325 - val_loss: 8.0627 - val_acc: 0.4383\n",
            "Epoch 12/20\n",
            "6660/6680 [============================>.] - ETA: 0s - loss: 7.2898 - acc: 0.5353Epoch 00011: val_loss improved from 8.06268 to 7.98454, saving model to saved_models/weights.best.VGG16.hdf5\n",
            "6680/6680 [==============================] - 4s - loss: 7.2877 - acc: 0.5353 - val_loss: 7.9845 - val_acc: 0.4263\n",
            "Epoch 13/20\n",
            "6620/6680 [============================>.] - ETA: 0s - loss: 7.2061 - acc: 0.5446Epoch 00012: val_loss improved from 7.98454 to 7.92602, saving model to saved_models/weights.best.VGG16.hdf5\n",
            "6680/6680 [==============================] - 4s - loss: 7.2017 - acc: 0.5449 - val_loss: 7.9260 - val_acc: 0.4407\n",
            "Epoch 14/20\n",
            "6580/6680 [============================>.] - ETA: 0s - loss: 7.1922 - acc: 0.5486Epoch 00013: val_loss improved from 7.92602 to 7.87330, saving model to saved_models/weights.best.VGG16.hdf5\n",
            "6680/6680 [==============================] - 4s - loss: 7.1823 - acc: 0.5491 - val_loss: 7.8733 - val_acc: 0.4371\n",
            "Epoch 15/20\n",
            "6620/6680 [============================>.] - ETA: 0s - loss: 7.0951 - acc: 0.5506Epoch 00014: val_loss improved from 7.87330 to 7.86162, saving model to saved_models/weights.best.VGG16.hdf5\n",
            "6680/6680 [==============================] - 4s - loss: 7.1086 - acc: 0.5499 - val_loss: 7.8616 - val_acc: 0.4491\n",
            "Epoch 16/20\n",
            "6580/6680 [============================>.] - ETA: 0s - loss: 7.0294 - acc: 0.5571Epoch 00015: val_loss did not improve\n",
            "6680/6680 [==============================] - 4s - loss: 7.0375 - acc: 0.5566 - val_loss: 7.8869 - val_acc: 0.4431\n",
            "Epoch 17/20\n",
            "6620/6680 [============================>.] - ETA: 0s - loss: 6.9279 - acc: 0.5633Epoch 00016: val_loss improved from 7.86162 to 7.68473, saving model to saved_models/weights.best.VGG16.hdf5\n",
            "6680/6680 [==============================] - 4s - loss: 6.9369 - acc: 0.5627 - val_loss: 7.6847 - val_acc: 0.4503\n",
            "Epoch 18/20\n",
            "6640/6680 [============================>.] - ETA: 0s - loss: 6.8869 - acc: 0.5667Epoch 00017: val_loss improved from 7.68473 to 7.66925, saving model to saved_models/weights.best.VGG16.hdf5\n",
            "6680/6680 [==============================] - 4s - loss: 6.8867 - acc: 0.5668 - val_loss: 7.6693 - val_acc: 0.4467\n",
            "Epoch 19/20\n",
            "6600/6680 [============================>.] - ETA: 0s - loss: 6.8395 - acc: 0.5695Epoch 00018: val_loss improved from 7.66925 to 7.53215, saving model to saved_models/weights.best.VGG16.hdf5\n",
            "6680/6680 [==============================] - 4s - loss: 6.8398 - acc: 0.5696 - val_loss: 7.5321 - val_acc: 0.4635\n",
            "Epoch 20/20\n",
            "6640/6680 [============================>.] - ETA: 0s - loss: 6.6573 - acc: 0.5759Epoch 00019: val_loss improved from 7.53215 to 7.44204, saving model to saved_models/weights.best.VGG16.hdf5\n",
            "6680/6680 [==============================] - 4s - loss: 6.6593 - acc: 0.5757 - val_loss: 7.4420 - val_acc: 0.4683\n"
          ],
          "name": "stdout"
        },
        {
          "output_type": "execute_result",
          "data": {
            "text/plain": [
              "<keras.callbacks.History at 0x7f55cdd27518>"
            ]
          },
          "metadata": {
            "tags": []
          },
          "execution_count": 40
        }
      ]
    },
    {
      "metadata": {
        "id": "3BqagY9B_hqK",
        "colab_type": "text"
      },
      "cell_type": "markdown",
      "source": [
        "### Load the Model with the Best Validation Loss"
      ]
    },
    {
      "metadata": {
        "id": "FroTzXR8_hqL",
        "colab_type": "code",
        "colab": {}
      },
      "cell_type": "code",
      "source": [
        "VGG16_model.load_weights('saved_models/weights.best.VGG16.hdf5')"
      ],
      "execution_count": 0,
      "outputs": []
    },
    {
      "metadata": {
        "id": "0X8j093u_hqN",
        "colab_type": "text"
      },
      "cell_type": "markdown",
      "source": [
        "### Model Testing"
      ]
    },
    {
      "metadata": {
        "id": "VhN3X5Gr_hqP",
        "colab_type": "code",
        "outputId": "ba39f4e6-515e-400d-f4cd-50f6a53d0e61",
        "colab": {}
      },
      "cell_type": "code",
      "source": [
        "# get index of predicted dog breed for each image in test set\n",
        "VGG16_predictions = [np.argmax(VGG16_model.predict(np.expand_dims(feature, axis=0))) for feature in test_VGG16]\n",
        "\n",
        "# report test accuracy\n",
        "test_accuracy = 100*np.sum(np.array(VGG16_predictions)==np.argmax(test_targets, axis=1))/len(VGG16_predictions)\n",
        "print('Test accuracy: %.4f%%' % test_accuracy)"
      ],
      "execution_count": 0,
      "outputs": [
        {
          "output_type": "stream",
          "text": [
            "Test accuracy: 47.9665%\n"
          ],
          "name": "stdout"
        }
      ]
    },
    {
      "metadata": {
        "id": "SbnG30bF_hqT",
        "colab_type": "text"
      },
      "cell_type": "markdown",
      "source": [
        "### Predict Dog Breed with Model"
      ]
    },
    {
      "metadata": {
        "id": "aNOvIYCn_hqU",
        "colab_type": "code",
        "colab": {}
      },
      "cell_type": "code",
      "source": [
        "from extract_bottleneck_features import *\n",
        "\n",
        "def VGG16_predict_breed(img_path):\n",
        "    # extract bottleneck features\n",
        "    bottleneck_feature = extract_VGG16(path_to_tensor(img_path))\n",
        "    # obtain predicted vector\n",
        "    predicted_vector = VGG16_model.predict(bottleneck_feature)\n",
        "    # return dog breed that is predicted by the model\n",
        "    return dog_names[np.argmax(predicted_vector)]"
      ],
      "execution_count": 0,
      "outputs": []
    },
    {
      "metadata": {
        "id": "yMD2aH53_hqW",
        "colab_type": "text"
      },
      "cell_type": "markdown",
      "source": [
        "---\n",
        "## CNN to Classify Dog Breeds using Transfer Learning\n",
        "\n",
        "\n",
        "### Obtain Bottleneck Features\n",
        "\n",
        "The code block below extracts the bottleneck features corresponding to the train, test, and validation sets."
      ]
    },
    {
      "metadata": {
        "id": "re_Q1W0M_hqY",
        "colab_type": "code",
        "colab": {}
      },
      "cell_type": "code",
      "source": [
        "bottleneck_features = np.load('bottleneck_features/DogResnet50Data.npz')\n",
        "train_Resnet50 = bottleneck_features['train']\n",
        "valid_Resnet50 = bottleneck_features['valid']\n",
        "test_Resnet50 = bottleneck_features['test']"
      ],
      "execution_count": 0,
      "outputs": []
    },
    {
      "metadata": {
        "id": "W9Ecp3Hf_hqZ",
        "colab_type": "text"
      },
      "cell_type": "markdown",
      "source": [
        "### Model Architecture\n",
        "\n"
      ]
    },
    {
      "metadata": {
        "id": "Hzzy4pgm_hqa",
        "colab_type": "code",
        "outputId": "27399737-e364-40a0-90ce-c0d85146b3af",
        "colab": {}
      },
      "cell_type": "code",
      "source": [
        "### TODO: Define your architecture.\n",
        "Resnet50_model = Sequential()\n",
        "Resnet50_model.add(GlobalAveragePooling2D(input_shape=train_Resnet50.shape[1:]))\n",
        "Resnet50_model.add(Dense(133, activation='softmax'))\n",
        "\n",
        "Resnet50_model.summary()"
      ],
      "execution_count": 0,
      "outputs": [
        {
          "output_type": "stream",
          "text": [
            "_________________________________________________________________\n",
            "Layer (type)                 Output Shape              Param #   \n",
            "=================================================================\n",
            "global_average_pooling2d_3 ( (None, 2048)              0         \n",
            "_________________________________________________________________\n",
            "dense_3 (Dense)              (None, 133)               272517    \n",
            "=================================================================\n",
            "Total params: 272,517.0\n",
            "Trainable params: 272,517.0\n",
            "Non-trainable params: 0.0\n",
            "_________________________________________________________________\n"
          ],
          "name": "stdout"
        }
      ]
    },
    {
      "metadata": {
        "id": "nwSBrvQj_hqd",
        "colab_type": "text"
      },
      "cell_type": "markdown",
      "source": [
        "### Model Compilation"
      ]
    },
    {
      "metadata": {
        "id": "LMV1Ay8v_hqe",
        "colab_type": "code",
        "colab": {}
      },
      "cell_type": "code",
      "source": [
        "Resnet50_model.compile(loss='categorical_crossentropy', optimizer='rmsprop', metrics=['accuracy'])"
      ],
      "execution_count": 0,
      "outputs": []
    },
    {
      "metadata": {
        "id": "i6o9DlGF_hqh",
        "colab_type": "text"
      },
      "cell_type": "markdown",
      "source": [
        "### Model Training"
      ]
    },
    {
      "metadata": {
        "id": "9zQzO7eQ_hqk",
        "colab_type": "code",
        "outputId": "23e71297-0f1d-4c80-e501-4af1a14ce2f2",
        "colab": {}
      },
      "cell_type": "code",
      "source": [
        "Resnet50_model.fit(train_Resnet50, train_targets, \n",
        "          validation_data=(valid_Resnet50, valid_targets),\n",
        "          epochs=50, batch_size=20, callbacks=[checkpointer], verbose=1)"
      ],
      "execution_count": 0,
      "outputs": [
        {
          "output_type": "stream",
          "text": [
            "Train on 6680 samples, validate on 835 samples\n",
            "Epoch 1/50\n",
            "6640/6680 [============================>.] - ETA: 0s - loss: 1.6426 - acc: 0.5952Epoch 00000: val_loss improved from 7.44204 to 0.79453, saving model to saved_models/weights.best.VGG16.hdf5\n",
            "6680/6680 [==============================] - 5s - loss: 1.6382 - acc: 0.5966 - val_loss: 0.7945 - val_acc: 0.7581\n",
            "Epoch 2/50\n",
            "6600/6680 [============================>.] - ETA: 0s - loss: 0.4371 - acc: 0.8677Epoch 00001: val_loss improved from 0.79453 to 0.71252, saving model to saved_models/weights.best.VGG16.hdf5\n",
            "6680/6680 [==============================] - 4s - loss: 0.4362 - acc: 0.8674 - val_loss: 0.7125 - val_acc: 0.7832\n",
            "Epoch 3/50\n",
            "6660/6680 [============================>.] - ETA: 0s - loss: 0.2661 - acc: 0.9120Epoch 00002: val_loss improved from 0.71252 to 0.65024, saving model to saved_models/weights.best.VGG16.hdf5\n",
            "6680/6680 [==============================] - 4s - loss: 0.2659 - acc: 0.9120 - val_loss: 0.6502 - val_acc: 0.8060\n",
            "Epoch 4/50\n",
            "6620/6680 [============================>.] - ETA: 0s - loss: 0.1752 - acc: 0.9450Epoch 00003: val_loss did not improve\n",
            "6680/6680 [==============================] - 4s - loss: 0.1749 - acc: 0.9451 - val_loss: 0.6829 - val_acc: 0.7904\n",
            "Epoch 5/50\n",
            "6640/6680 [============================>.] - ETA: 0s - loss: 0.1276 - acc: 0.9599Epoch 00004: val_loss did not improve\n",
            "6680/6680 [==============================] - 4s - loss: 0.1274 - acc: 0.9600 - val_loss: 0.7336 - val_acc: 0.7952\n",
            "Epoch 6/50\n",
            "6660/6680 [============================>.] - ETA: 0s - loss: 0.0866 - acc: 0.9718Epoch 00005: val_loss did not improve\n",
            "6680/6680 [==============================] - 4s - loss: 0.0865 - acc: 0.9719 - val_loss: 0.6807 - val_acc: 0.8216\n",
            "Epoch 7/50\n",
            "6640/6680 [============================>.] - ETA: 0s - loss: 0.0669 - acc: 0.9809Epoch 00006: val_loss did not improve\n",
            "6680/6680 [==============================] - 4s - loss: 0.0666 - acc: 0.9810 - val_loss: 0.6822 - val_acc: 0.8132\n",
            "Epoch 8/50\n",
            "6640/6680 [============================>.] - ETA: 0s - loss: 0.0481 - acc: 0.9861Epoch 00007: val_loss did not improve\n",
            "6680/6680 [==============================] - 4s - loss: 0.0481 - acc: 0.9862 - val_loss: 0.7129 - val_acc: 0.8168\n",
            "Epoch 9/50\n",
            "6640/6680 [============================>.] - ETA: 0s - loss: 0.0372 - acc: 0.9892Epoch 00008: val_loss did not improve\n",
            "6680/6680 [==============================] - 4s - loss: 0.0372 - acc: 0.9891 - val_loss: 0.7308 - val_acc: 0.8204\n",
            "Epoch 10/50\n",
            "6620/6680 [============================>.] - ETA: 0s - loss: 0.0266 - acc: 0.9938Epoch 00009: val_loss did not improve\n",
            "6680/6680 [==============================] - 4s - loss: 0.0264 - acc: 0.9939 - val_loss: 0.7623 - val_acc: 0.8144\n",
            "Epoch 11/50\n",
            "6640/6680 [============================>.] - ETA: 0s - loss: 0.0220 - acc: 0.9938Epoch 00010: val_loss did not improve\n",
            "6680/6680 [==============================] - 4s - loss: 0.0220 - acc: 0.9937 - val_loss: 0.7102 - val_acc: 0.8287\n",
            "Epoch 12/50\n",
            "6660/6680 [============================>.] - ETA: 0s - loss: 0.0173 - acc: 0.9944Epoch 00011: val_loss did not improve\n",
            "6680/6680 [==============================] - 4s - loss: 0.0182 - acc: 0.9943 - val_loss: 0.7588 - val_acc: 0.8275\n",
            "Epoch 13/50\n",
            "6660/6680 [============================>.] - ETA: 0s - loss: 0.0142 - acc: 0.9965Epoch 00012: val_loss did not improve\n",
            "6680/6680 [==============================] - 4s - loss: 0.0141 - acc: 0.9966 - val_loss: 0.7976 - val_acc: 0.8275\n",
            "Epoch 14/50\n",
            "6640/6680 [============================>.] - ETA: 0s - loss: 0.0117 - acc: 0.9971Epoch 00013: val_loss did not improve\n",
            "6680/6680 [==============================] - 4s - loss: 0.0116 - acc: 0.9972 - val_loss: 0.8296 - val_acc: 0.8263\n",
            "Epoch 15/50\n",
            "6660/6680 [============================>.] - ETA: 0s - loss: 0.0103 - acc: 0.9974Epoch 00014: val_loss did not improve\n",
            "6680/6680 [==============================] - 4s - loss: 0.0103 - acc: 0.9975 - val_loss: 0.8471 - val_acc: 0.8240\n",
            "Epoch 16/50\n",
            "6640/6680 [============================>.] - ETA: 0s - loss: 0.0074 - acc: 0.9983Epoch 00015: val_loss did not improve\n",
            "6680/6680 [==============================] - 4s - loss: 0.0074 - acc: 0.9984 - val_loss: 0.7962 - val_acc: 0.8311\n",
            "Epoch 17/50\n",
            "6620/6680 [============================>.] - ETA: 0s - loss: 0.0071 - acc: 0.9982Epoch 00016: val_loss did not improve\n",
            "6680/6680 [==============================] - 4s - loss: 0.0070 - acc: 0.9982 - val_loss: 0.8753 - val_acc: 0.8204\n",
            "Epoch 18/50\n",
            "6600/6680 [============================>.] - ETA: 0s - loss: 0.0068 - acc: 0.9980Epoch 00017: val_loss did not improve\n",
            "6680/6680 [==============================] - 4s - loss: 0.0068 - acc: 0.9981 - val_loss: 0.8864 - val_acc: 0.8383\n",
            "Epoch 19/50\n",
            "6640/6680 [============================>.] - ETA: 0s - loss: 0.0061 - acc: 0.9985Epoch 00018: val_loss did not improve\n",
            "6680/6680 [==============================] - 4s - loss: 0.0061 - acc: 0.9985 - val_loss: 0.9207 - val_acc: 0.8263\n",
            "Epoch 20/50\n",
            "6620/6680 [============================>.] - ETA: 0s - loss: 0.0044 - acc: 0.9989Epoch 00019: val_loss did not improve\n",
            "6680/6680 [==============================] - 4s - loss: 0.0043 - acc: 0.9990 - val_loss: 0.9498 - val_acc: 0.8240\n",
            "Epoch 21/50\n",
            "6620/6680 [============================>.] - ETA: 0s - loss: 0.0057 - acc: 0.9986Epoch 00020: val_loss did not improve\n",
            "6680/6680 [==============================] - 4s - loss: 0.0062 - acc: 0.9985 - val_loss: 0.9656 - val_acc: 0.8216\n",
            "Epoch 22/50\n",
            "6620/6680 [============================>.] - ETA: 0s - loss: 0.0049 - acc: 0.9980Epoch 00021: val_loss did not improve\n",
            "6680/6680 [==============================] - 4s - loss: 0.0049 - acc: 0.9981 - val_loss: 0.9804 - val_acc: 0.8323\n",
            "Epoch 23/50\n",
            "6620/6680 [============================>.] - ETA: 0s - loss: 0.0055 - acc: 0.9985Epoch 00022: val_loss did not improve\n",
            "6680/6680 [==============================] - 4s - loss: 0.0062 - acc: 0.9984 - val_loss: 0.9849 - val_acc: 0.8216\n",
            "Epoch 24/50\n",
            "6640/6680 [============================>.] - ETA: 0s - loss: 0.0050 - acc: 0.9986Epoch 00023: val_loss did not improve\n",
            "6680/6680 [==============================] - 4s - loss: 0.0049 - acc: 0.9987 - val_loss: 0.9882 - val_acc: 0.8216\n",
            "Epoch 25/50\n",
            "6640/6680 [============================>.] - ETA: 0s - loss: 0.0047 - acc: 0.9986Epoch 00024: val_loss did not improve\n",
            "6680/6680 [==============================] - 4s - loss: 0.0046 - acc: 0.9987 - val_loss: 1.0004 - val_acc: 0.8275\n",
            "Epoch 26/50\n",
            "6660/6680 [============================>.] - ETA: 0s - loss: 0.0042 - acc: 0.9986Epoch 00025: val_loss did not improve\n",
            "6680/6680 [==============================] - 5s - loss: 0.0042 - acc: 0.9987 - val_loss: 1.0100 - val_acc: 0.8287\n",
            "Epoch 27/50\n",
            "6600/6680 [============================>.] - ETA: 0s - loss: 0.0043 - acc: 0.9985Epoch 00026: val_loss did not improve\n",
            "6680/6680 [==============================] - 4s - loss: 0.0043 - acc: 0.9985 - val_loss: 1.0392 - val_acc: 0.8371\n",
            "Epoch 28/50\n",
            "6660/6680 [============================>.] - ETA: 0s - loss: 0.0051 - acc: 0.9988Epoch 00027: val_loss did not improve\n",
            "6680/6680 [==============================] - 5s - loss: 0.0051 - acc: 0.9988 - val_loss: 1.0384 - val_acc: 0.8204\n",
            "Epoch 29/50\n",
            "6600/6680 [============================>.] - ETA: 0s - loss: 0.0047 - acc: 0.9989Epoch 00028: val_loss did not improve\n",
            "6680/6680 [==============================] - 5s - loss: 0.0047 - acc: 0.9990 - val_loss: 1.0816 - val_acc: 0.8228\n",
            "Epoch 30/50\n",
            "6600/6680 [============================>.] - ETA: 0s - loss: 0.0055 - acc: 0.9989Epoch 00029: val_loss did not improve\n",
            "6680/6680 [==============================] - 5s - loss: 0.0054 - acc: 0.9990 - val_loss: 1.0859 - val_acc: 0.8287\n",
            "Epoch 31/50\n",
            "6640/6680 [============================>.] - ETA: 0s - loss: 0.0049 - acc: 0.9989Epoch 00030: val_loss did not improve\n",
            "6680/6680 [==============================] - 5s - loss: 0.0049 - acc: 0.9990 - val_loss: 1.0727 - val_acc: 0.8275\n",
            "Epoch 32/50\n",
            "6640/6680 [============================>.] - ETA: 0s - loss: 0.0046 - acc: 0.9986Epoch 00031: val_loss did not improve\n",
            "6680/6680 [==============================] - 5s - loss: 0.0046 - acc: 0.9987 - val_loss: 1.1006 - val_acc: 0.8275\n",
            "Epoch 33/50\n",
            "6660/6680 [============================>.] - ETA: 0s - loss: 0.0050 - acc: 0.9988Epoch 00032: val_loss did not improve\n"
          ],
          "name": "stdout"
        },
        {
          "output_type": "stream",
          "text": [
            "6680/6680 [==============================] - 5s - loss: 0.0050 - acc: 0.9988 - val_loss: 1.1449 - val_acc: 0.8204\n",
            "Epoch 34/50\n",
            "6660/6680 [============================>.] - ETA: 0s - loss: 0.0043 - acc: 0.9989Epoch 00033: val_loss did not improve\n",
            "6680/6680 [==============================] - 5s - loss: 0.0043 - acc: 0.9990 - val_loss: 1.0917 - val_acc: 0.8299\n",
            "Epoch 35/50\n",
            "6620/6680 [============================>.] - ETA: 0s - loss: 0.0055 - acc: 0.9986Epoch 00034: val_loss did not improve\n",
            "6680/6680 [==============================] - 5s - loss: 0.0055 - acc: 0.9987 - val_loss: 1.1332 - val_acc: 0.8240\n",
            "Epoch 36/50\n",
            "6620/6680 [============================>.] - ETA: 0s - loss: 0.0048 - acc: 0.9985Epoch 00035: val_loss did not improve\n",
            "6680/6680 [==============================] - 5s - loss: 0.0047 - acc: 0.9985 - val_loss: 1.1692 - val_acc: 0.8228\n",
            "Epoch 37/50\n",
            "6600/6680 [============================>.] - ETA: 0s - loss: 0.0051 - acc: 0.9988Epoch 00036: val_loss did not improve\n",
            "6680/6680 [==============================] - 5s - loss: 0.0050 - acc: 0.9988 - val_loss: 1.1622 - val_acc: 0.8335\n",
            "Epoch 38/50\n",
            "6660/6680 [============================>.] - ETA: 0s - loss: 0.0047 - acc: 0.9989Epoch 00037: val_loss did not improve\n",
            "6680/6680 [==============================] - 5s - loss: 0.0047 - acc: 0.9990 - val_loss: 1.1295 - val_acc: 0.8347\n",
            "Epoch 39/50\n",
            "6620/6680 [============================>.] - ETA: 0s - loss: 0.0046 - acc: 0.9988Epoch 00038: val_loss did not improve\n",
            "6680/6680 [==============================] - 5s - loss: 0.0045 - acc: 0.9988 - val_loss: 1.1930 - val_acc: 0.8287\n",
            "Epoch 40/50\n",
            "6600/6680 [============================>.] - ETA: 0s - loss: 0.0044 - acc: 0.9991Epoch 00039: val_loss did not improve\n",
            "6680/6680 [==============================] - 5s - loss: 0.0043 - acc: 0.9991 - val_loss: 1.1950 - val_acc: 0.8168\n",
            "Epoch 41/50\n",
            "6640/6680 [============================>.] - ETA: 0s - loss: 0.0043 - acc: 0.9989Epoch 00040: val_loss did not improve\n",
            "6680/6680 [==============================] - 5s - loss: 0.0043 - acc: 0.9990 - val_loss: 1.1666 - val_acc: 0.8299\n",
            "Epoch 42/50\n",
            "6620/6680 [============================>.] - ETA: 0s - loss: 0.0039 - acc: 0.9989Epoch 00041: val_loss did not improve\n",
            "6680/6680 [==============================] - 5s - loss: 0.0038 - acc: 0.9990 - val_loss: 1.1863 - val_acc: 0.8263\n",
            "Epoch 43/50\n",
            "6660/6680 [============================>.] - ETA: 0s - loss: 0.0051 - acc: 0.9988Epoch 00042: val_loss did not improve\n",
            "6680/6680 [==============================] - 5s - loss: 0.0051 - acc: 0.9988 - val_loss: 1.1950 - val_acc: 0.8311\n",
            "Epoch 44/50\n",
            "6660/6680 [============================>.] - ETA: 0s - loss: 0.0049 - acc: 0.9989Epoch 00043: val_loss did not improve\n",
            "6680/6680 [==============================] - 5s - loss: 0.0049 - acc: 0.9990 - val_loss: 1.1917 - val_acc: 0.8263\n",
            "Epoch 45/50\n",
            "6600/6680 [============================>.] - ETA: 0s - loss: 0.0034 - acc: 0.9988Epoch 00044: val_loss did not improve\n",
            "6680/6680 [==============================] - 5s - loss: 0.0048 - acc: 0.9987 - val_loss: 1.1738 - val_acc: 0.8216\n",
            "Epoch 46/50\n",
            "6660/6680 [============================>.] - ETA: 0s - loss: 0.0033 - acc: 0.9986Epoch 00045: val_loss did not improve\n",
            "6680/6680 [==============================] - 5s - loss: 0.0032 - acc: 0.9987 - val_loss: 1.1982 - val_acc: 0.8383\n",
            "Epoch 47/50\n",
            "6620/6680 [============================>.] - ETA: 0s - loss: 0.0047 - acc: 0.9983Epoch 00046: val_loss did not improve\n",
            "6680/6680 [==============================] - 5s - loss: 0.0047 - acc: 0.9984 - val_loss: 1.1989 - val_acc: 0.8311\n",
            "Epoch 48/50\n",
            "6660/6680 [============================>.] - ETA: 0s - loss: 0.0044 - acc: 0.9989Epoch 00047: val_loss did not improve\n",
            "6680/6680 [==============================] - 5s - loss: 0.0046 - acc: 0.9988 - val_loss: 1.1976 - val_acc: 0.8263\n",
            "Epoch 49/50\n",
            "6620/6680 [============================>.] - ETA: 0s - loss: 0.0043 - acc: 0.9986Epoch 00048: val_loss did not improve\n",
            "6680/6680 [==============================] - 5s - loss: 0.0043 - acc: 0.9987 - val_loss: 1.2154 - val_acc: 0.8251\n",
            "Epoch 50/50\n",
            "6620/6680 [============================>.] - ETA: 0s - loss: 0.0063 - acc: 0.9988Epoch 00049: val_loss did not improve\n",
            "6680/6680 [==============================] - 5s - loss: 0.0063 - acc: 0.9988 - val_loss: 1.2180 - val_acc: 0.8263\n"
          ],
          "name": "stdout"
        },
        {
          "output_type": "execute_result",
          "data": {
            "text/plain": [
              "<keras.callbacks.History at 0x7f55c003b518>"
            ]
          },
          "metadata": {
            "tags": []
          },
          "execution_count": 52
        }
      ]
    },
    {
      "metadata": {
        "id": "eiAHcik1_hqn",
        "colab_type": "text"
      },
      "cell_type": "markdown",
      "source": [
        "### Load the Model with the Best Validation Loss"
      ]
    },
    {
      "metadata": {
        "id": "7thbjSdV_hqn",
        "colab_type": "code",
        "colab": {}
      },
      "cell_type": "code",
      "source": [
        "Resnet50_model.load_weights('saved_models/weights.best.VGG16.hdf5')"
      ],
      "execution_count": 0,
      "outputs": []
    },
    {
      "metadata": {
        "id": "Baj7YNy-_hqs",
        "colab_type": "text"
      },
      "cell_type": "markdown",
      "source": [
        "### Model Testing"
      ]
    },
    {
      "metadata": {
        "id": "qvktoS8d_hqs",
        "colab_type": "code",
        "outputId": "5af57c6d-7859-48f6-eb7d-9358b5319afd",
        "colab": {}
      },
      "cell_type": "code",
      "source": [
        "Resnet50_predictions = [np.argmax(Resnet50_model.predict(np.expand_dims(feature, axis=0))) for feature in test_Resnet50]\n",
        "\n",
        "# report test accuracy\n",
        "test_accuracy = 100*np.sum(np.array(Resnet50_predictions)==np.argmax(test_targets, axis=1))/len(Resnet50_predictions)\n",
        "print('Test accuracy: %.4f%%' % test_accuracy)"
      ],
      "execution_count": 0,
      "outputs": [
        {
          "output_type": "stream",
          "text": [
            "Test accuracy: 81.8182%\n"
          ],
          "name": "stdout"
        }
      ]
    },
    {
      "metadata": {
        "id": "jI8HvB5K_hqx",
        "colab_type": "text"
      },
      "cell_type": "markdown",
      "source": [
        "### Predict Dog Breed with the Model\n",
        "\n",
        "The following function takes an image path as input and returns the dog breed that is predicted by the model.  "
      ]
    },
    {
      "metadata": {
        "id": "dNNPuYBa_hqy",
        "colab_type": "code",
        "colab": {}
      },
      "cell_type": "code",
      "source": [
        "from extract_bottleneck_features import *\n",
        "\n",
        "def Resnet50_predict_breed(img_path):\n",
        "    # extract bottleneck features\n",
        "    bottleneck_feature = extract_Resnet50(path_to_tensor(img_path))\n",
        "    # obtain predicted vector\n",
        "    predicted_vector = Resnet50_model.predict(bottleneck_feature)\n",
        "    # return dog breed that is predicted by the model\n",
        "    return dog_names[np.argmax(predicted_vector)]"
      ],
      "execution_count": 0,
      "outputs": []
    },
    {
      "metadata": {
        "id": "GDan4RNh_hq1",
        "colab_type": "text"
      },
      "cell_type": "markdown",
      "source": [
        "---\n",
        "## Detection Algorithm\n",
        "\n",
        "The following algorithm accepts a file path to an image and first determines whether the image contains a human, dog, or neither.  Then,\n",
        "- if a __dog__ is detected in the image, it returns the predicted breed.\n",
        "- if a __human__ is detected in the image, it returns the resembling dog breed.\n",
        "- if __neither__ is detected in the image, it provides output that indicates an error."
      ]
    },
    {
      "metadata": {
        "id": "1uQXlehn_hq1",
        "colab_type": "code",
        "colab": {}
      },
      "cell_type": "code",
      "source": [
        "def breedpred(file):\n",
        "    if face_detector(file):\n",
        "        print(\"I see a human!\")\n",
        "    elif dog_detector(file):\n",
        "        print(\"I see a dog!\")\n",
        "    else:\n",
        "        print(\"Error. I can't see a dog or a person.\")\n",
        "        return None\n",
        "    return Resnet50_predict_breed(file)"
      ],
      "execution_count": 0,
      "outputs": []
    },
    {
      "metadata": {
        "id": "nm_Hc1R1_hq4",
        "colab_type": "text"
      },
      "cell_type": "markdown",
      "source": [
        "---\n",
        "## Algorithm Testing on Sample Images"
      ]
    },
    {
      "metadata": {
        "id": "RQ8JhMNo_hq4",
        "colab_type": "code",
        "outputId": "0c75b698-0eac-4679-fb2a-d4e840ba1062",
        "colab": {}
      },
      "cell_type": "code",
      "source": [
        "print(breedpred(\"dogImages/test/015.Basset_hound/Basset_hound_01044.jpg\"))"
      ],
      "execution_count": 0,
      "outputs": [
        {
          "output_type": "stream",
          "text": [
            "I see a dog!\n",
            "Downloading data from https://github.com/fchollet/deep-learning-models/releases/download/v0.2/resnet50_weights_tf_dim_ordering_tf_kernels_notop.h5\n",
            "Basset_hound\n"
          ],
          "name": "stdout"
        }
      ]
    },
    {
      "metadata": {
        "id": "DcrdJQ45_hq7",
        "colab_type": "code",
        "outputId": "316e0429-8e2d-4f5d-a565-99dfe6a19b5c",
        "colab": {}
      },
      "cell_type": "code",
      "source": [
        "print(breedpred(\"dogImages/valid/122.Pointer/Pointer_07831.jpg\"))"
      ],
      "execution_count": 0,
      "outputs": [
        {
          "output_type": "stream",
          "text": [
            "I see a dog!\n",
            "Pointer\n"
          ],
          "name": "stdout"
        }
      ]
    },
    {
      "metadata": {
        "id": "-FtJ7yNi_hq_",
        "colab_type": "code",
        "outputId": "db75b6b5-a3b4-48f8-a9ed-606fc7a77e01",
        "colab": {}
      },
      "cell_type": "code",
      "source": [
        "print(breedpred(\"dogImages/valid/127.Silky_terrier/Silky_terrier_08064.jpg\"))"
      ],
      "execution_count": 0,
      "outputs": [
        {
          "output_type": "stream",
          "text": [
            "I see a dog!\n",
            "Silky_terrier\n"
          ],
          "name": "stdout"
        }
      ]
    },
    {
      "metadata": {
        "id": "WcgLsrX-_hrC",
        "colab_type": "code",
        "outputId": "69c8c56f-3bfd-4e15-c49f-c3805a7ff2ab",
        "colab": {}
      },
      "cell_type": "code",
      "source": [
        "print(breedpred(\"dogImages/valid/033.Bouvier_des_flandres/Bouvier_des_flandres_02325.jpg\"))"
      ],
      "execution_count": 0,
      "outputs": [
        {
          "output_type": "stream",
          "text": [
            "I see a dog!\n",
            "Black_russian_terrier\n"
          ],
          "name": "stdout"
        }
      ]
    },
    {
      "metadata": {
        "id": "6tmX300e_hrH",
        "colab_type": "code",
        "outputId": "5899b599-38c1-45f4-ebf6-98b869cde55a",
        "colab": {}
      },
      "cell_type": "code",
      "source": [
        "print(breedpred(\"peopleImages/jackie-chan-9542080-1-402.jpg\"))"
      ],
      "execution_count": 0,
      "outputs": [
        {
          "output_type": "stream",
          "text": [
            "I see a human!\n",
            "Silky_terrier\n"
          ],
          "name": "stdout"
        }
      ]
    },
    {
      "metadata": {
        "id": "tCpbok6W_hrJ",
        "colab_type": "code",
        "outputId": "a9e0f798-7137-45c3-8691-442036a92089",
        "colab": {}
      },
      "cell_type": "code",
      "source": [
        "print(breedpred(\"peopleImages/luisguzman-thecommies-1.jpg\"))"
      ],
      "execution_count": 0,
      "outputs": [
        {
          "output_type": "stream",
          "text": [
            "I see a human!\n",
            "Silky_terrier\n"
          ],
          "name": "stdout"
        }
      ]
    }
  ]
}